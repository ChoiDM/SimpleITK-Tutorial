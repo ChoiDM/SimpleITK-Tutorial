{
 "cells": [
  {
   "cell_type": "code",
   "execution_count": 2,
   "metadata": {},
   "outputs": [],
   "source": [
    "import SimpleITK as sitk"
   ]
  },
  {
   "cell_type": "markdown",
   "metadata": {},
   "source": [
    "# Read Images"
   ]
  },
  {
   "cell_type": "markdown",
   "metadata": {},
   "source": [
    "### 1. Nifti File"
   ]
  },
  {
   "cell_type": "code",
   "execution_count": 3,
   "metadata": {},
   "outputs": [],
   "source": [
    "sitk_file = sitk.ReadImage('avg152T1_LR_nifti.nii.gz')"
   ]
  },
  {
   "cell_type": "code",
   "execution_count": 4,
   "metadata": {},
   "outputs": [
    {
     "name": "stdout",
     "output_type": "stream",
     "text": [
      "Image (0x7fffe4560620)\n",
      "  RTTI typeinfo:   itk::Image<unsigned char, 3u>\n",
      "  Reference Count: 1\n",
      "  Modified Time: 965\n",
      "  Debug: Off\n",
      "  Object Name: \n",
      "  Observers: \n",
      "    none\n",
      "  Source: (none)\n",
      "  Source output name: (none)\n",
      "  Release Data: Off\n",
      "  Data Released: False\n",
      "  Global Release Data: Off\n",
      "  PipelineMTime: 942\n",
      "  UpdateMTime: 964\n",
      "  RealTimeStamp: 0 seconds \n",
      "  LargestPossibleRegion: \n",
      "    Dimension: 3\n",
      "    Index: [0, 0, 0]\n",
      "    Size: [91, 109, 91]\n",
      "  BufferedRegion: \n",
      "    Dimension: 3\n",
      "    Index: [0, 0, 0]\n",
      "    Size: [91, 109, 91]\n",
      "  RequestedRegion: \n",
      "    Dimension: 3\n",
      "    Index: [0, 0, 0]\n",
      "    Size: [91, 109, 91]\n",
      "  Spacing: [2, 2, 2]\n",
      "  Origin: [-90, 126, -72]\n",
      "  Direction: \n",
      "1 0 0\n",
      "0 -1 0\n",
      "0 0 1\n",
      "\n",
      "  IndexToPointMatrix: \n",
      "2 0 0\n",
      "0 -2 0\n",
      "0 0 2\n",
      "\n",
      "  PointToIndexMatrix: \n",
      "0.5 0 0\n",
      "0 -0.5 0\n",
      "0 0 0.5\n",
      "\n",
      "  Inverse Direction: \n",
      "1 0 0\n",
      "0 -1 0\n",
      "0 0 1\n",
      "\n",
      "  PixelContainer: \n",
      "    ImportImageContainer (0x7fffe3cd8550)\n",
      "      RTTI typeinfo:   itk::ImportImageContainer<unsigned long, unsigned char>\n",
      "      Reference Count: 1\n",
      "      Modified Time: 961\n",
      "      Debug: Off\n",
      "      Object Name: \n",
      "      Observers: \n",
      "        none\n",
      "      Pointer: 0x7fffe4e9f8a0\n",
      "      Container manages memory: true\n",
      "      Size: 902629\n",
      "      Capacity: 902629\n",
      "\n"
     ]
    }
   ],
   "source": [
    "print(sitk_file)"
   ]
  },
  {
   "cell_type": "markdown",
   "metadata": {},
   "source": [
    "### 2. Dicom Series"
   ]
  },
  {
   "cell_type": "code",
   "execution_count": 5,
   "metadata": {},
   "outputs": [],
   "source": [
    "def ReadDicomSeries(dicom_dir):\n",
    "    '''\n",
    "    dicom_dir : dicom directory path\n",
    "    '''\n",
    "    \n",
    "    reader = sitk.ImageSeriesReader()\n",
    "\n",
    "    # Set Reader's File Names\n",
    "    dicom_names = reader.GetGDCMSeriesFileNames(dicom_dir)\n",
    "    reader.SetFileNames(dicom_names)\n",
    "\n",
    "    # Get Image Object from Reader\n",
    "    sitk_file = reader.Execute()\n",
    "    \n",
    "    return sitk_file"
   ]
  },
  {
   "cell_type": "code",
   "execution_count": 6,
   "metadata": {},
   "outputs": [],
   "source": [
    "sitk_file = ReadDicomSeries('series-000001')"
   ]
  },
  {
   "cell_type": "code",
   "execution_count": 6,
   "metadata": {},
   "outputs": [
    {
     "name": "stdout",
     "output_type": "stream",
     "text": [
      "Image (0x7fffc1ed9300)\n",
      "  RTTI typeinfo:   itk::Image<short, 3u>\n",
      "  Reference Count: 1\n",
      "  Modified Time: 13105\n",
      "  Debug: Off\n",
      "  Object Name: \n",
      "  Observers: \n",
      "    none\n",
      "  Source: (none)\n",
      "  Source output name: (none)\n",
      "  Release Data: Off\n",
      "  Data Released: False\n",
      "  Global Release Data: Off\n",
      "  PipelineMTime: 1124\n",
      "  UpdateMTime: 13104\n",
      "  RealTimeStamp: 0 seconds \n",
      "  LargestPossibleRegion: \n",
      "    Dimension: 3\n",
      "    Index: [0, 0, 0]\n",
      "    Size: [512, 512, 361]\n",
      "  BufferedRegion: \n",
      "    Dimension: 3\n",
      "    Index: [0, 0, 0]\n",
      "    Size: [512, 512, 361]\n",
      "  RequestedRegion: \n",
      "    Dimension: 3\n",
      "    Index: [0, 0, 0]\n",
      "    Size: [512, 512, 361]\n",
      "  Spacing: [0.589844, 0.589844, 0.5]\n",
      "  Origin: [-151.494, -36.6564, 1115]\n",
      "  Direction: \n",
      "1 0 0\n",
      "0 1 0\n",
      "0 0 1\n",
      "\n",
      "  IndexToPointMatrix: \n",
      "0.589844 0 0\n",
      "0 0.589844 0\n",
      "0 0 0.5\n",
      "\n",
      "  PointToIndexMatrix: \n",
      "1.69536 0 0\n",
      "0 1.69536 0\n",
      "0 0 2\n",
      "\n",
      "  Inverse Direction: \n",
      "1 0 0\n",
      "0 1 0\n",
      "0 0 1\n",
      "\n",
      "  PixelContainer: \n",
      "    ImportImageContainer (0x7fffbefe7b80)\n",
      "      RTTI typeinfo:   itk::ImportImageContainer<unsigned long, short>\n",
      "      Reference Count: 1\n",
      "      Modified Time: 1187\n",
      "      Debug: Off\n",
      "      Object Name: \n",
      "      Observers: \n",
      "        none\n",
      "      Pointer: 0x7fd288bf0010\n",
      "      Container manages memory: true\n",
      "      Size: 94633984\n",
      "      Capacity: 94633984\n",
      "\n"
     ]
    }
   ],
   "source": [
    "print(sitk_file)"
   ]
  },
  {
   "cell_type": "markdown",
   "metadata": {},
   "source": [
    "### 3. Get numpy array from SimpleITK object"
   ]
  },
  {
   "cell_type": "markdown",
   "metadata": {},
   "source": [
    "<pre>\n",
    "※ Notice : 'GetArrayFromImage' method reverses the order of axis.\n",
    "   For example, if sitk_file.GetSize() returns (100, 200, 300), the numpy array returned by 'GetArrayFromImage' has\n",
    "   shape (300, 200, 100).\n",
    "</pre>"
   ]
  },
  {
   "cell_type": "code",
   "execution_count": 7,
   "metadata": {},
   "outputs": [],
   "source": [
    "img_array = sitk.GetArrayFromImage(sitk_file)"
   ]
  },
  {
   "cell_type": "code",
   "execution_count": 8,
   "metadata": {},
   "outputs": [
    {
     "name": "stdout",
     "output_type": "stream",
     "text": [
      "(361, 512, 512)\n"
     ]
    }
   ],
   "source": [
    "print(img_array.shape)"
   ]
  },
  {
   "cell_type": "markdown",
   "metadata": {},
   "source": [
    "### 4. Get header information from SimpleITK object"
   ]
  },
  {
   "cell_type": "code",
   "execution_count": 9,
   "metadata": {},
   "outputs": [
    {
     "name": "stdout",
     "output_type": "stream",
     "text": [
      "------------------------------------------------------------------\n",
      "                         Header Information\n",
      "------------------------------------------------------------------\n",
      "- Spacing     : (0.58984375, 0.58984375, 0.5)\n",
      "- Direction   : (1.0, 0.0, 0.0, 0.0, 1.0, 0.0, 0.0, 0.0, 1.0)\n",
      "- Origin      : (-151.49351501464844, -36.65644073486328, 1115.0)\n",
      "- Size        : (512, 512, 361)\n",
      "- Pixel Dtype : 16-bit signed integer\n"
     ]
    }
   ],
   "source": [
    "print(\"------------------------------------------------------------------\")\n",
    "print(\"                         Header Information\")\n",
    "print(\"------------------------------------------------------------------\")\n",
    "print(\"- Spacing     :\", sitk_file.GetSpacing())\n",
    "print(\"- Direction   :\", sitk_file.GetDirection())\n",
    "print(\"- Origin      :\", sitk_file.GetOrigin())\n",
    "print(\"- Size        :\", sitk_file.GetSize())\n",
    "print(\"- Pixel Dtype :\", sitk_file.GetPixelIDTypeAsString())"
   ]
  },
  {
   "cell_type": "markdown",
   "metadata": {},
   "source": [
    "### 5. Visualization"
   ]
  },
  {
   "cell_type": "code",
   "execution_count": 15,
   "metadata": {},
   "outputs": [],
   "source": [
    "import matplotlib.pyplot as plt\n",
    "\n",
    "def PlotImageSlice(sitk_file, slice_index, axis=2, title = 'SimpleITK Example'):\n",
    "    sitk_slice = sitk_file[:, :, slice_index] if axis == 2 else (sitk_file[:, slice_index] if axis == 1 else sitk_file[slice_index])\n",
    "    slice_array = sitk.GetArrayFromImage(sitk_slice)\n",
    "    \n",
    "    plt.imshow(slice_array, 'gray')\n",
    "    plt.title(title)\n",
    "    plt.xticks([])\n",
    "    plt.yticks([])\n",
    "    plt.show()"
   ]
  },
  {
   "cell_type": "code",
   "execution_count": 11,
   "metadata": {},
   "outputs": [
    {
     "data": {
      "image/png": "[encoded data removed]",
      "text/plain": [
       "<Figure size 432x288 with 1 Axes>"
      ]
     },
     "metadata": {},
     "output_type": "display_data"
    }
   ],
   "source": [
    "PlotImageSlice(sitk_file, 45, axis=2)"
   ]
  },
  {
   "cell_type": "markdown",
   "metadata": {},
   "source": [
    "----"
   ]
  },
  {
   "cell_type": "markdown",
   "metadata": {},
   "source": [
    "# Preprocessing"
   ]
  },
  {
   "cell_type": "markdown",
   "metadata": {},
   "source": [
    "### 1. Spacing Resampling"
   ]
  },
  {
   "cell_type": "code",
   "execution_count": 12,
   "metadata": {},
   "outputs": [],
   "source": [
    "import numpy as np\n",
    "\n",
    "def ResampleImage(sitk_file, new_spacing = (1, 1, 1)):\n",
    "    resample = sitk.ResampleImageFilter()\n",
    "    resample.SetInterpolator(sitk.sitkLinear)\n",
    "    resample.SetOutputDirection(sitk_file.GetDirection())\n",
    "    resample.SetOutputOrigin(sitk_file.GetOrigin())\n",
    "    resample.SetOutputSpacing(new_spacing)\n",
    "\n",
    "    orig_size = np.array(sitk_file.GetSize(), dtype=np.int)\n",
    "    orig_spacing = sitk_file.GetSpacing()\n",
    "    \n",
    "    orig_spacing = np.array(orig_spacing)\n",
    "    new_spacing = np.array(new_spacing)\n",
    "    \n",
    "    new_size = orig_size*(orig_spacing/new_spacing)\n",
    "    new_size = np.ceil(new_size).astype(np.int) #  Image dimensions are in integers\n",
    "    new_size = [int(s) for s in new_size]\n",
    "    resample.SetSize(new_size)\n",
    "\n",
    "    return resample.Execute(sitk_file)"
   ]
  },
  {
   "cell_type": "code",
   "execution_count": 13,
   "metadata": {},
   "outputs": [],
   "source": [
    "sitk_resampled = ResampleImage(sitk_file, new_spacing = (1, 1, 1))"
   ]
  },
  {
   "cell_type": "code",
   "execution_count": 14,
   "metadata": {},
   "outputs": [
    {
     "name": "stdout",
     "output_type": "stream",
     "text": [
      "Before : Spacing =  (0.58984375, 0.58984375, 0.5) | Size = (512, 512, 361)\n",
      "After  : Spacing =                (1.0, 1.0, 1.0) | Size = (302, 302, 181)\n"
     ]
    }
   ],
   "source": [
    "print(\"Before : Spacing = %30s | Size = %15s\" % (sitk_file.GetSpacing(), sitk_file.GetSize()))\n",
    "print(\"After  : Spacing = %30s | Size = %15s\" % (sitk_resampled.GetSpacing(), sitk_resampled.GetSize()))"
   ]
  },
  {
   "cell_type": "markdown",
   "metadata": {},
   "source": [
    "### 2. N4 Bias Correction"
   ]
  },
  {
   "cell_type": "markdown",
   "metadata": {},
   "source": [
    "※ Memo : N4 Bias Correction takes a lot of time."
   ]
  },
  {
   "cell_type": "code",
   "execution_count": 17,
   "metadata": {},
   "outputs": [],
   "source": [
    "def n4correction_sitk(sitk_file):\n",
    "    maskImage = sitk.OtsuThreshold(sitk_file, 0, 1, 200)\n",
    "\n",
    "    corrector = sitk.N4BiasFieldCorrectionImageFilter()\n",
    "    \n",
    "    sitk_file = sitk.Cast(sitk_file, sitk.sitkFloat32)\n",
    "    maskImage.CopyInformation(sitk_file)\n",
    "    output = corrector.Execute(sitk_file, maskImage)\n",
    "\n",
    "    return output"
   ]
  },
  {
   "cell_type": "code",
   "execution_count": 18,
   "metadata": {},
   "outputs": [],
   "source": [
    "sitk_n4_corrected = n4correction_sitk(sitk_file)"
   ]
  },
  {
   "cell_type": "code",
   "execution_count": 19,
   "metadata": {
    "scrolled": true
   },
   "outputs": [
    {
     "data": {
      "image/png": "[encoded data removed]",
      "text/plain": [
       "<Figure size 432x288 with 1 Axes>"
      ]
     },
     "metadata": {},
     "output_type": "display_data"
    }
   ],
   "source": [
    "PlotImageSlice(sitk_n4_corrected, 45, axis=2)"
   ]
  },
  {
   "cell_type": "markdown",
   "metadata": {},
   "source": [
    "### 3. Resize"
   ]
  },
  {
   "cell_type": "code",
   "execution_count": 1,
   "metadata": {},
   "outputs": [],
   "source": [
    "def ResizeImage(sitk_file, new_shape):\n",
    "    new_spacing = [org_spacing*org_size/new_size for org_spacing, org_size, new_size\n",
    "                   in zip(sitk_file.GetSpacing(), sitk_file.GetSize(), new_shape)]\n",
    "\n",
    "    resample = sitk.ResampleImageFilter()\n",
    "    resample.SetInterpolator(sitk.sitkLinear)\n",
    "    resample.SetOutputDirection(sitk_file.GetDirection())\n",
    "    resample.SetOutputOrigin(sitk_file.GetOrigin())\n",
    "    resample.SetOutputSpacing(new_spacing)\n",
    "\n",
    "    resample.SetSize(new_shape)\n",
    "\n",
    "    return resample.Execute(sitk_file)"
   ]
  },
  {
   "cell_type": "code",
   "execution_count": 8,
   "metadata": {},
   "outputs": [],
   "source": [
    "sitk_resized = ResizeImage(sitk_file, (256, 256, 180))"
   ]
  },
  {
   "cell_type": "code",
   "execution_count": 13,
   "metadata": {},
   "outputs": [
    {
     "name": "stdout",
     "output_type": "stream",
     "text": [
      "Before : Size = (512, 512, 361)\n",
      "After  : Size = (256, 256, 180)\n"
     ]
    }
   ],
   "source": [
    "print(\"Before : Size =\", sitk_file.GetSize())\n",
    "print(\"After  : Size =\", sitk_resized.GetSize())"
   ]
  },
  {
   "cell_type": "markdown",
   "metadata": {},
   "source": [
    "### 4. 3D Rotation"
   ]
  },
  {
   "cell_type": "code",
   "execution_count": 120,
   "metadata": {},
   "outputs": [],
   "source": [
    "import numpy as np\n",
    "\n",
    "def ImageRotation(sitk_file, degrees, default_value = None):\n",
    "    transform = sitk.AffineTransform(3)\n",
    "    \n",
    "    new_transform = sitk.AffineTransform(transform)\n",
    "    matrix = np.array(transform.GetMatrix()).reshape((3,3))\n",
    "    radians = -np.pi * degrees / 180.\n",
    "    rotation = np.array([[np.cos(radians), -np.sin(radians), 0],[np.sin(radians), np.cos(radians), 0], [0, 0, 1]])\n",
    "    new_matrix = np.dot(rotation, matrix)\n",
    "    new_transform.SetMatrix(new_matrix.ravel())\n",
    "    new_transform.SetCenter(sitk_file.GetOrigin())\n",
    "\n",
    "    interpolator = sitk.sitkLinear\n",
    "    default_value = sitk_file.GetPixel((0,0,0)) if default_value is None else default_value\n",
    "    \n",
    "    return sitk.Resample(sitk_file, new_transform, interpolator, default_value)"
   ]
  },
  {
   "cell_type": "code",
   "execution_count": 121,
   "metadata": {},
   "outputs": [],
   "source": [
    "degrees = 5\n",
    "sitk_rotated = ImageRotation(sitk_file, degrees)"
   ]
  },
  {
   "cell_type": "code",
   "execution_count": 122,
   "metadata": {},
   "outputs": [
    {
     "data": {
      "image/png": "[encoded data removed]",
      "text/plain": [
       "<Figure size 432x288 with 1 Axes>"
      ]
     },
     "metadata": {},
     "output_type": "display_data"
    }
   ],
   "source": [
    "PlotImageSlice(sitk_rotated, 45, axis=2)"
   ]
  }
 ],
 "metadata": {
  "kernelspec": {
   "display_name": "Python 3",
   "language": "python",
   "name": "python3"
  },
  "language_info": {
   "codemirror_mode": {
    "name": "ipython",
    "version": 3
   },
   "file_extension": ".py",
   "mimetype": "text/x-python",
   "name": "python",
   "nbconvert_exporter": "python",
   "pygments_lexer": "ipython3",
   "version": "3.6.8"
  }
 },
 "nbformat": 4,
 "nbformat_minor": 2
}
